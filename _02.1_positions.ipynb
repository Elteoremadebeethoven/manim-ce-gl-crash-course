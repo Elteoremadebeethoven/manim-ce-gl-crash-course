{
 "cells": [
  {
   "cell_type": "code",
   "execution_count": null,
   "metadata": {},
   "outputs": [],
   "source": [
    "from manim import *\n",
    "config.media_width = \"100%\"\n",
    "_RV = \"-v WARNING -qm --progress_bar None --disable_caching Example\"\n",
    "_RI = \"-v WARNING -ql -s --progress_bar None --disable_caching Example\""
   ]
  },
  {
   "attachments": {},
   "cell_type": "markdown",
   "metadata": {},
   "source": [
    "# Manim with Jupyter"
   ]
  },
  {
   "cell_type": "code",
   "execution_count": null,
   "metadata": {},
   "outputs": [],
   "source": [
    "%%manim -v WARNING -qm --progress_bar None --disable_caching Example\n",
    "class Example(Scene):\n",
    "    def construct(self):\n",
    "        text = Text(\"Hello word!\")\n",
    "        self.play(Write(text, run_time=3))\n",
    "        self.wait()"
   ]
  },
  {
   "cell_type": "code",
   "execution_count": null,
   "metadata": {},
   "outputs": [],
   "source": [
    "class Example(Scene):\n",
    "    def construct(self):\n",
    "        text = Text(\"Hello word!\")\n",
    "        self.play(Write(text, run_time=3))\n",
    "        self.wait()\n",
    "%manim -v WARNING -qm --progress_bar None --disable_caching Example"
   ]
  },
  {
   "cell_type": "code",
   "execution_count": null,
   "metadata": {},
   "outputs": [],
   "source": [
    "%%manim $_RV\n",
    "class Example(Scene):\n",
    "    def construct(self):\n",
    "        text = Text(\"Hello word!\")\n",
    "        self.play(Write(text, run_time=3))\n",
    "        self.wait()"
   ]
  },
  {
   "cell_type": "code",
   "execution_count": null,
   "metadata": {},
   "outputs": [],
   "source": [
    "class Example(Scene):\n",
    "    def construct(self):\n",
    "        text = Text(\"Hello word!\")\n",
    "        self.play(Write(text, run_time=3))\n",
    "        self.wait()\n",
    "%manim $_RV"
   ]
  },
  {
   "attachments": {},
   "cell_type": "markdown",
   "metadata": {},
   "source": [
    "## Camera settings (ManimCE and ManimGL)\n",
    "\n",
    "```                                                                                                    \n",
    "                                      Width: 14.222                             \n",
    "                          ◀───────────────────────────────────▶                 \n",
    "                          ┌───────────────────────────────────┐ ▲               \n",
    "                          │                                   │ │               \n",
    "                          │                                   │ │               \n",
    "    These units are       │                                   │ │               \n",
    "  independent of the      │                                   │ │               \n",
    "   video resolution.      │      Aspect ratio: W/H = 16/9     │ │ Height: 8     \n",
    "                          │                                   │ │               \n",
    "                          │                                   │ │               \n",
    "                          │                                   │ │               \n",
    "                          │                                   │ │               \n",
    "                          └───────────────────────────────────┘ ▼                           \n",
    "```"
   ]
  },
  {
   "attachments": {},
   "cell_type": "markdown",
   "metadata": {},
   "source": [
    "### Manim uses a Cartesian coordinate system centered at the origin:\n",
    "\n",
    "```\n",
    "┌──────────────────────────────────────────────────────────┐\n",
    "│                             ▲                            │\n",
    "│                             │                            │\n",
    "│                             │                            │\n",
    "│                             │                            │\n",
    "│                             │                            │\n",
    "│                             │                            │\n",
    "│                             │                            │\n",
    "│                             │                            │\n",
    "│◀────────────────────────────┼───────────────────────────▶│\n",
    "│                             │                            │\n",
    "│                             │                            │\n",
    "│                             │                            │\n",
    "│                             │                            │\n",
    "│                             │                            │\n",
    "│                             │                            │\n",
    "│                             │                            │\n",
    "│                             ▼                            │\n",
    "└──────────────────────────────────────────────────────────┘\n",
    "```\n",
    "\n",
    "## ** All objects are created at the origin of the Cartesian system **"
   ]
  },
  {
   "cell_type": "code",
   "execution_count": null,
   "metadata": {},
   "outputs": [],
   "source": [
    "class Example(Scene):\n",
    "    def construct(self):\n",
    "        number_plane = NumberPlane()\n",
    "        \n",
    "        mob = Square() # mob: Some Mobject\n",
    "        self.add(number_plane)\n",
    "        self.add(mob)\n",
    "\n",
    "%manim $_RI"
   ]
  },
  {
   "attachments": {},
   "cell_type": "markdown",
   "metadata": {},
   "source": [
    "# Positions (ManimCE & ManimGL)\n",
    "\n",
    "This applies for any Mobject\n",
    "\n",
    "```                                                                   \n",
    "                            ┌───▶mob.move_to(mob|vector)                          \n",
    "                            │                                                     \n",
    "            ┌───▶Absolute───┼───▶mob.to_edge(unit-vector, buff)                   \n",
    "            │               │                                                     \n",
    "            │               └───▶mob.to_corner(corner-vector, buff)               \n",
    "Positions───┤                                                                     \n",
    "            │               ┌───▶mob.shift(vector)                                \n",
    "            │               │                                                     \n",
    "            └───▶Relative───┼───▶mob.next_to(mob|vec, vec, buff, unit-vector)     \n",
    "                            │                                                     \n",
    "                            └───▶mob.align_to(mob|vec, unit-vector)               \n",
    "                                                                               \n",
    "```\n",
    "## a) Absolute positions\n",
    "The reference is the screen\n",
    "\n",
    "### a.1) `mob.move_to(<other-mob|vector>)`\n",
    "\n",
    "* `mob` means **any Mobject**."
   ]
  },
  {
   "cell_type": "code",
   "execution_count": null,
   "metadata": {},
   "outputs": [],
   "source": [
    "class Example(Scene):\n",
    "    def construct(self):\n",
    "        number_plane = NumberPlane()\n",
    "\n",
    "        dot = Dot().move_to([-1,1,0])\n",
    "\n",
    "        self.add(number_plane)\n",
    "        self.add(dot)\n",
    "        # or (the order matters)\n",
    "        # self.add(\n",
    "        #     number_plane,\n",
    "        #     dot\n",
    "        # )\n",
    "\n",
    "%manim $_RI"
   ]
  },
  {
   "attachments": {},
   "cell_type": "markdown",
   "metadata": {},
   "source": [
    "## Vectors:\n",
    "\n",
    "```python\n",
    "ORIGIN = np.array([ 0, 0, 0])\n",
    "# Unit vectors\n",
    "UP    = np.array([ 0, 1, 0])\n",
    "DOWN  = np.array([ 0,-1, 0])\n",
    "RIGHT = np.array([ 1, 0, 0])\n",
    "LEFT  = np.array([-1, 0, 0])\n",
    "OUT   = np.array([ 0, 0, 1])\n",
    "IN    = np.array([ 0, 0,-1])\n",
    "# Corner vectors\n",
    "UR = UP   + RIGHT = np.array([ 1, 1, 0])\n",
    "DR = DOWN + RIGHT = np.array([ 1,-1, 0])\n",
    "UL = UP   + LEFT  = np.array([-1, 1, 0])\n",
    "DL = DOWN + LEFT  = np.array([-1, 1, 0])\n",
    "```"
   ]
  },
  {
   "cell_type": "code",
   "execution_count": null,
   "metadata": {},
   "outputs": [],
   "source": [
    "class Example(Scene):\n",
    "    def construct(self):\n",
    "        number_plane = NumberPlane()\n",
    "\n",
    "        dot = Dot().move_to(2 * RIGHT + 3 * DOWN)\n",
    "\n",
    "        self.add(number_plane, dot)\n",
    "\n",
    "%manim $_RI"
   ]
  },
  {
   "attachments": {},
   "cell_type": "markdown",
   "metadata": {},
   "source": [
    "## Applying the same vector multiple times with `move_to` is redundant."
   ]
  },
  {
   "cell_type": "code",
   "execution_count": null,
   "metadata": {},
   "outputs": [],
   "source": [
    "class Example(Scene):\n",
    "    def construct(self):\n",
    "        number_plane = NumberPlane()\n",
    "\n",
    "        dot = Dot()\n",
    "        dot.move_to(2 * RIGHT + 3 * DOWN)\n",
    "        dot.move_to(2 * RIGHT + 3 * DOWN)\n",
    "        dot.move_to(2 * RIGHT + 3 * DOWN)\n",
    "\n",
    "        self.add(number_plane, dot)\n",
    "\n",
    "%manim $_RI"
   ]
  },
  {
   "cell_type": "code",
   "execution_count": null,
   "metadata": {},
   "outputs": [],
   "source": [
    "class Example(Scene):\n",
    "    def construct(self):\n",
    "        number_plane = NumberPlane()\n",
    "\n",
    "        sq = Square().move_to(UP * 2 + RIGHT * 2)\n",
    "        dot = Dot().move_to(sq)\n",
    "\n",
    "        self.add(number_plane, sq, dot)\n",
    "\n",
    "%manim $_RI"
   ]
  },
  {
   "cell_type": "code",
   "execution_count": null,
   "metadata": {},
   "outputs": [],
   "source": [
    "class Example(Scene):\n",
    "    def construct(self):\n",
    "        number_plane = NumberPlane()\n",
    "\n",
    "        sq = Square().move_to(UP * 2 + RIGHT * 2)\n",
    "        dot = Dot().move_to(sq.get_center() + RIGHT * 2)\n",
    "\n",
    "        self.add(number_plane, sq, dot)\n",
    "\n",
    "%manim $_RI"
   ]
  },
  {
   "attachments": {},
   "cell_type": "markdown",
   "metadata": {},
   "source": [
    "### Some `getters`\n",
    "* `mob.get_top()`\n",
    "* `mob.get_bottom()`\n",
    "* `mob.get_right()`\n",
    "* `mob.get_left()`\n",
    "* `mob.get_corner(<corner-vector>)`"
   ]
  },
  {
   "cell_type": "code",
   "execution_count": null,
   "metadata": {},
   "outputs": [],
   "source": [
    "class Example(Scene):\n",
    "    def construct(self):\n",
    "        number_plane = NumberPlane()\n",
    "\n",
    "        sq = Square().move_to(UP * 2 + RIGHT * 2)\n",
    "        dot = Dot().move_to(sq.get_right())\n",
    "\n",
    "        self.add(number_plane, sq, dot)\n",
    "\n",
    "%manim $_RI"
   ]
  },
  {
   "attachments": {},
   "cell_type": "markdown",
   "metadata": {},
   "source": [
    "### a.2) `mob.to_edge(<unit-vector>)`\n",
    "```\n",
    "┌────────────────────────────────────────────────────────────────────────────┐\n",
    "│                                                         ▲                  │\n",
    "│                                                         │                  │\n",
    "│                                             .to_edge(UP)│                  │\n",
    "│                                                         │                  │\n",
    "│                                                         │                  │\n",
    "│                                                         │                  │\n",
    "│                                                         │                  │\n",
    "│                                                         │                  │\n",
    "│                                                         │                  │\n",
    "│                                                         │                  │\n",
    "│                                                         │                  │\n",
    "│                                                         │                  │\n",
    "│                      .to_edge(LEFT)                    ┌─┐  .to_edge(RIGHT)│\n",
    "│◀───────────────────────────────────────────────────────│█│────────────────▶│\n",
    "│                                                        └─┘                 │\n",
    "│                                                         │                  │\n",
    "│                                                         │                  │\n",
    "│                                           .to_edge(DOWN)│                  │\n",
    "│                                                         │                  │\n",
    "│                                                         ▼                  │\n",
    "└────────────────────────────────────────────────────────────────────────────┘\n",
    "```"
   ]
  },
  {
   "cell_type": "code",
   "execution_count": null,
   "metadata": {},
   "outputs": [],
   "source": [
    "class Example(Scene):\n",
    "    def construct(self):\n",
    "        number_plane = NumberPlane()\n",
    "\n",
    "        c = Circle().move_to(UP * 1 + RIGHT * 3)\n",
    "        # c.to_edge(UP)\n",
    "\n",
    "        self.add(number_plane, c)\n",
    "\n",
    "%manim $_RI"
   ]
  },
  {
   "cell_type": "code",
   "execution_count": null,
   "metadata": {},
   "outputs": [],
   "source": [
    "class Example(Scene):\n",
    "    def construct(self):\n",
    "        number_plane = NumberPlane()\n",
    "\n",
    "        c = Circle().move_to(UP * 1 + RIGHT * 3)\n",
    "        c.to_edge(UP, buff=0) # buff(er) = gap between edges\n",
    "\n",
    "        self.add(number_plane, c)\n",
    "\n",
    "%manim $_RI"
   ]
  },
  {
   "attachments": {},
   "cell_type": "markdown",
   "metadata": {},
   "source": [
    "### a.3) `mob.to_corner(<corner-vector>)`"
   ]
  },
  {
   "cell_type": "code",
   "execution_count": null,
   "metadata": {},
   "outputs": [],
   "source": [
    "class Example(Scene):\n",
    "    def construct(self):\n",
    "        number_plane = NumberPlane()\n",
    "        # buff can also be negative\n",
    "        c = Circle().to_edge(UR, buff=0)\n",
    "\n",
    "        self.add(number_plane, c)\n",
    "\n",
    "%manim $_RI"
   ]
  },
  {
   "attachments": {},
   "cell_type": "markdown",
   "metadata": {},
   "source": [
    "## b) Relative positions\n",
    "\n",
    "The reference is a coordinate or an Mobject\n",
    "\n",
    "#### b.1) `mob.shift(<vector>)`\n",
    "\n",
    "This method moves an object taking its current coordinate as reference."
   ]
  },
  {
   "cell_type": "code",
   "execution_count": null,
   "metadata": {},
   "outputs": [],
   "source": [
    "class Example(Scene):\n",
    "    def construct(self):\n",
    "        number_plane = NumberPlane()\n",
    "        # Unlike .move_to(vec), .shift(vec) multiple times\n",
    "        # is different from shifting just once.\n",
    "        c = Circle().move_to(RIGHT+UP)\n",
    "        # c.shift(RIGHT)\n",
    "        # c.shift(RIGHT)\n",
    "        # c.shift(RIGHT)\n",
    "\n",
    "        self.add(number_plane, c)\n",
    "\n",
    "%manim $_RI"
   ]
  },
  {
   "attachments": {},
   "cell_type": "markdown",
   "metadata": {},
   "source": [
    "#### b.2) `mob.next_to(<mob|vector>, <vector>, buff, aligned_edge=<unit-vector>)`\n",
    "This method moves an object taking as reference other <u>object edge</u> or coordinate."
   ]
  },
  {
   "cell_type": "code",
   "execution_count": null,
   "metadata": {},
   "outputs": [],
   "source": [
    "class Example(Scene):\n",
    "    def construct(self):\n",
    "        number_plane = NumberPlane()\n",
    "\n",
    "        s = Square().move_to(RIGHT * 2 + UP * 2)\n",
    "        c = Circle().next_to(s, DOWN)\n",
    "\n",
    "        self.add(number_plane, s, c)\n",
    "\n",
    "%manim $_RI"
   ]
  },
  {
   "cell_type": "code",
   "execution_count": null,
   "metadata": {},
   "outputs": [],
   "source": [
    "class Example(Scene):\n",
    "    def construct(self):\n",
    "        number_plane = NumberPlane()\n",
    "\n",
    "        s = Square().move_to(RIGHT * 2 + UP * 2)\n",
    "        c = Circle().next_to(s, DOWN, buff=0)\n",
    "\n",
    "        self.add(number_plane, s, c)\n",
    "\n",
    "%manim $_RI"
   ]
  },
  {
   "cell_type": "code",
   "execution_count": null,
   "metadata": {},
   "outputs": [],
   "source": [
    "class Example(Scene):\n",
    "    def construct(self):\n",
    "        number_plane = NumberPlane()\n",
    "\n",
    "        s = Square().move_to(RIGHT * 2 + UP * 2)\n",
    "        t = Text(\"A\").next_to(s, DOWN, aligned_edge=ORIGIN)\n",
    "\n",
    "        self.add(number_plane, s, t)\n",
    "\n",
    "%manim $_RI"
   ]
  },
  {
   "attachments": {},
   "cell_type": "markdown",
   "metadata": {},
   "source": [
    "#### b.3) `mob.align_to(<mob|vector>, <unit-vector|corner-vector>)`\n",
    "This method moves aligns the edge of one object with the edge of another."
   ]
  },
  {
   "cell_type": "code",
   "execution_count": null,
   "metadata": {},
   "outputs": [],
   "source": [
    "class Example(Scene):\n",
    "    def construct(self):\n",
    "        number_plane = NumberPlane()\n",
    "\n",
    "        s = Square().move_to(RIGHT * 2 + UP * 2)\n",
    "        t = Text(\"A\").next_to(s, DOWN)\n",
    "\n",
    "        # t.align_to(s, RIGHT)\n",
    "\n",
    "        self.add(number_plane, s, t)\n",
    "\n",
    "%manim $_RI"
   ]
  },
  {
   "attachments": {},
   "cell_type": "markdown",
   "metadata": {},
   "source": []
  }
 ],
 "metadata": {
  "kernelspec": {
   "display_name": "venv",
   "language": "python",
   "name": "python3"
  },
  "language_info": {
   "codemirror_mode": {
    "name": "ipython",
    "version": 3
   },
   "file_extension": ".py",
   "mimetype": "text/x-python",
   "name": "python",
   "nbconvert_exporter": "python",
   "pygments_lexer": "ipython3",
   "version": "3.9.15"
  },
  "orig_nbformat": 4,
  "vscode": {
   "interpreter": {
    "hash": "aaa2ee04782896c27b55217860e0cd5b58365a25928fe1c3b155454484dea9ee"
   }
  }
 },
 "nbformat": 4,
 "nbformat_minor": 2
}
