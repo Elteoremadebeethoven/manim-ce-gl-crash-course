{
 "cells": [
  {
   "cell_type": "code",
   "execution_count": null,
   "metadata": {},
   "outputs": [],
   "source": [
    "from manim import *\n",
    "config.media_width = \"100%\"\n",
    "_RV = \"-v WARNING -qm --progress_bar None --disable_caching Example\"\n",
    "_RI = \"-v WARNING -ql -s --progress_bar None --disable_caching Example\""
   ]
  },
  {
   "attachments": {},
   "cell_type": "markdown",
   "metadata": {},
   "source": [
    "# Previous theory\n",
    "<iframe width=\"560\" height=\"315\" src=\"https://www.youtube.com/embed/tFxN5EoU58A\" title=\"YouTube video player\" frameborder=\"0\" allow=\"accelerometer; autoplay; clipboard-write; encrypted-media; gyroscope; picture-in-picture; web-share\" allowfullscreen></iframe>\n",
    "\n",
    "<iframe width=\"560\" height=\"315\" src=\"https://www.youtube.com/embed/aVwxzDHniEw\" title=\"YouTube video player\" frameborder=\"0\" allow=\"accelerometer; autoplay; clipboard-write; encrypted-media; gyroscope; picture-in-picture; web-share\" allowfullscreen></iframe>\n",
    "\n",
    "<iframe width=\"560\" height=\"315\" src=\"https://www.youtube.com/embed/jvPPXbo87ds\" title=\"YouTube video player\" frameborder=\"0\" allow=\"accelerometer; autoplay; clipboard-write; encrypted-media; gyroscope; picture-in-picture; web-share\" allowfullscreen></iframe> (optional)"
   ]
  },
  {
   "attachments": {},
   "cell_type": "markdown",
   "metadata": {},
   "source": [
    "# Colors\n",
    "\n",
    "![colors](https://docs.manim.community/en/stable/_images/ColorsOverview-1.png)\n",
    "\n",
    "### `SOMECOLOR_C === SOMECOLOR`\n",
    "\n",
    "Reference: https://docs.manim.community/en/stable/reference/manim.utils.color.Colors.html?highlight=colors#manim.utils.color.Colors"
   ]
  },
  {
   "cell_type": "code",
   "execution_count": null,
   "metadata": {},
   "outputs": [],
   "source": [
    "class Example(Scene):\n",
    "  def construct(self):\n",
    "    self.add(\n",
    "      Square(fill_opacity=1)\n",
    "        .set_color(RED) # RED_C === RED\n",
    "        .scale(3)\n",
    "    )\n",
    "\n",
    "%manim $_RI"
   ]
  },
  {
   "attachments": {},
   "cell_type": "markdown",
   "metadata": {},
   "source": [
    "### Check out the color utilities that are defined in Manim:\n",
    "\n",
    "https://docs.manim.community/en/stable/reference/manim.utils.color.html\n",
    "\n",
    "### 💎 Install Color highlight VSCode plugin (by Sergii Naumov) "
   ]
  },
  {
   "cell_type": "code",
   "execution_count": null,
   "metadata": {},
   "outputs": [],
   "source": [
    "COLORS = [\n",
    "  \"#F00\",\n",
    "  \"#FF0000\",\n",
    "  \"#0F0\",\n",
    "  \"#00F\",\n",
    "  \"#FF0\",\n",
    "  \"#0FF\",\n",
    "]"
   ]
  },
  {
   "attachments": {},
   "cell_type": "markdown",
   "metadata": {},
   "source": [
    "## VMobject attrs\n",
    "\n",
    "All `VMobject` have the following attributes, where we can control the color and transparency of the path and the fill."
   ]
  },
  {
   "cell_type": "code",
   "execution_count": null,
   "metadata": {},
   "outputs": [],
   "source": [
    "class Example(Scene):\n",
    "  def construct(self):\n",
    "    self.add(\n",
    "      Square(\n",
    "        fill_opacity=0.3,   # 30 % opacity\n",
    "        fill_color=TEAL,\n",
    "        stroke_opacity=0.6, # 60 % opacity\n",
    "        stroke_color=RED,\n",
    "        stroke_width=10 # 10% of camera unit === 0.1 camera unit\n",
    "      )\n",
    "        .scale(3)\n",
    "    )\n",
    "\n",
    "%manim $_RI"
   ]
  },
  {
   "attachments": {},
   "cell_type": "markdown",
   "metadata": {},
   "source": [
    "## Main VMobjects: \n",
    "https://docs.manim.community/en/stable/reference/manim.mobject.geometry.html"
   ]
  },
  {
   "attachments": {},
   "cell_type": "markdown",
   "metadata": {},
   "source": [
    "## Setters:\n",
    "\n",
    "* `vmob.set_color(COLOR)` method sets the `fill_color` and `stroke_color`.\n",
    "* `vmob.set_stroke(width_color, stroke_width, stroke_opacity)`.\n",
    "* `vmob.set_fill(fill_color, fill_opacity)`.\n",
    "* `vmob.set_opacity(alpha)` method sets the `stroke_opacity` and `fill_opacity` (this works for **any** Mobject)\n",
    "* `vmob.set_style(color, fill_color, fill_opacity, stroke_width, stroke_opacity)`.\n",
    "* `vmob.match_style(other_vmob)` match all styles."
   ]
  },
  {
   "cell_type": "code",
   "execution_count": null,
   "metadata": {},
   "outputs": [],
   "source": [
    "class Example(Scene):\n",
    "  def construct(self):\n",
    "    self.add(\n",
    "      Square().scale(3)\n",
    "        # .set_color(RED)\n",
    "        # .set_stroke(TEAL, 10, 0.5)\n",
    "        # .set_fill(ORANGE, 0.5)\n",
    "        # .set_opacity(0.5)\n",
    "        # .set_style(\n",
    "        #   fill_opacity=0.3,   \n",
    "        #   fill_color=TEAL,\n",
    "        #   stroke_opacity=0.6, \n",
    "        #   stroke_color=RED,\n",
    "        #   stroke_width=10 \n",
    "        # )\n",
    "        .match_style(Triangle(fill_opacity=1, fill_color=PINK))\n",
    "    )\n",
    "\n",
    "%manim $_RI"
   ]
  },
  {
   "attachments": {},
   "cell_type": "markdown",
   "metadata": {},
   "source": [
    "## Getters\n",
    "\n",
    "* `vmob.get_color()` return `stroke_color`\n",
    "* `vmob.get_fill_color()` \n",
    "* `vmob.get_fill_opacity()` \n",
    "* `vmob.get_stroke_color()`\n",
    "* `vmob.get_stroke_width()` \n",
    "* `vmob.get_stroke_opacity()` \n",
    "\n",
    "## Define **VMobject** control points\n",
    "\n",
    "```py\n",
    "vmob = VMobject().set_points([\n",
    "  start_1, first_handle_1, second_handle_1, end_1,\n",
    "  start_2, first_handle_2, second_handle_2, end_2,\n",
    "  start_3, first_handle_3, second_handle_3, end_3,\n",
    "  # ...\n",
    "])\n",
    "```"
   ]
  },
  {
   "cell_type": "code",
   "execution_count": null,
   "metadata": {},
   "outputs": [],
   "source": [
    "class Example(Scene):\n",
    "  def construct(self):\n",
    "    #             start, handle_1,handle_2,     end \n",
    "    coords = [ (-3,  1), (-1,  3), (1,  3), (3,  1),\n",
    "               (-3, -1), (-1, -3), (1, -3), (3, -1)  ]\n",
    "    dots = [ Dot([*coord,0]) for coord in coords ]\n",
    "    xyz_coords = [ dot.get_center() for dot in dots ]\n",
    "    coords_text = [\n",
    "      Text(f\"({x},{y})\", font=\"Times\")\n",
    "        .next_to([x,y,0], np.sign(y)*UP)\n",
    "      for x,y in coords\n",
    "    ]\n",
    "\n",
    "    vmob = VMobject(color=RED)\\\n",
    "      .set_points(xyz_coords)\n",
    "    vmob_as_corners = VMobject(color=TEAL)\\\n",
    "      .set_points_as_corners(xyz_coords)\n",
    "    vmob_smoothly = VMobject(color=PURPLE)\\\n",
    "      .set_points_smoothly(xyz_coords)\n",
    "\n",
    "    self.add(\n",
    "      NumberPlane(), *dots,\n",
    "      vmob,\n",
    "      # vmob_as_corners,\n",
    "      # vmob_smoothly,\n",
    "      *coords_text\n",
    "    )\n",
    "\n",
    "%manim $_RI"
   ]
  },
  {
   "cell_type": "code",
   "execution_count": null,
   "metadata": {},
   "outputs": [],
   "source": [
    "class Example(Scene):\n",
    "  def construct(self):\n",
    "    coords = [ (-4,  1), (-1,  3), (1,  3), (4,  1)  ]\n",
    "    vmob = VMobject().set_points([\n",
    "      (x,y,0) for x,y in coords\n",
    "    ])\n",
    "\n",
    "    start_dot = Dot(vmob.get_start(), color=RED)\n",
    "    end_dot = Dot(vmob.get_end(), color=BLUE)\n",
    "\n",
    "    self.add(vmob, start_dot, end_dot)\n",
    "\n",
    "%manim $_RI"
   ]
  },
  {
   "attachments": {},
   "cell_type": "markdown",
   "metadata": {},
   "source": [
    "## Get control points from VMobjects"
   ]
  },
  {
   "cell_type": "code",
   "execution_count": null,
   "metadata": {},
   "outputs": [],
   "source": [
    "class Example(Scene):\n",
    "  def construct(self):\n",
    "    vmob = Circle().scale(3.4)\n",
    "    # vmob.points[3] += LEFT*3\n",
    "    control_points = vmob.get_all_points()\n",
    "\n",
    "    dots = [\n",
    "      Dot(point) for point in control_points\n",
    "    ]\n",
    "\n",
    "    self.add(vmob, *dots)\n",
    "\n",
    "%manim -v WARNING -s --progress_bar None --disable_caching Example"
   ]
  }
 ],
 "metadata": {
  "kernelspec": {
   "display_name": "venv",
   "language": "python",
   "name": "python3"
  },
  "language_info": {
   "codemirror_mode": {
    "name": "ipython",
    "version": 3
   },
   "file_extension": ".py",
   "mimetype": "text/x-python",
   "name": "python",
   "nbconvert_exporter": "python",
   "pygments_lexer": "ipython3",
   "version": "3.9.15 (main, Oct 11 2022, 21:39:54) \n[Clang 14.0.0 (clang-1400.0.29.102)]"
  },
  "orig_nbformat": 4,
  "vscode": {
   "interpreter": {
    "hash": "99f3cb52999e2cf3fa3b4aed91cffb0b1fd84ffd896832319d37cae931662453"
   }
  }
 },
 "nbformat": 4,
 "nbformat_minor": 2
}
