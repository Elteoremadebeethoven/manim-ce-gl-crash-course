{
 "cells": [
  {
   "cell_type": "code",
   "execution_count": null,
   "metadata": {},
   "outputs": [],
   "source": [
    "from manim import *\n",
    "config.media_width = \"100%\"\n",
    "_RV = \"-v WARNING -qm --progress_bar None --disable_caching Example\"\n",
    "_RI = \"-v WARNING -ql -s --progress_bar None --disable_caching Example\""
   ]
  },
  {
   "attachments": {},
   "cell_type": "markdown",
   "metadata": {},
   "source": [
    "```                                               \n",
    "                                     ┌───▶mob.set() | MCE                         \n",
    "                                     │                                            \n",
    "                                     ├───▶mob.set_width() | MGL                   \n",
    "                                     │                                            \n",
    "                                     ├───▶mob.set_height() | MGL                  \n",
    "                                     │                                            \n",
    "                                     ├───▶mob.scale_to_fit_width() | MCE (almost not used)       \n",
    "                    ┌────▶Without ───┤                                            \n",
    "                    │     stretch    ├───▶mob.scale_to_fit_height() | MCE (almost not used)        \n",
    "                    │                │                                            \n",
    "                    │                ├───▶mob.match_width() | MCE-MGL             \n",
    "                    │                │                                            \n",
    "                    │                ├───▶mob.match_height() | MCE-MGL            \n",
    "                    │                │                                            \n",
    "Transformations─────┤                └───▶mob.scale() | MCE-MGL                   \n",
    "                    │                                                             \n",
    "                    │                ┌───▶mob.stretch_to_fit_width() | MCE-MGL    \n",
    "                    ├────▶With ──────┤                                             \n",
    "                    │     stretch    └───▶mob.stretch_to_fit_height() | MCE-MGL   \n",
    "                    │                                                             \n",
    "                    │                ┌───▶mob.rotate() | MCE-MGL                  \n",
    "                    ├────▶Rotations ─┤                                           \n",
    "                    │                └───▶mob.flip() | MCE-MGL                    \n",
    "                    │                                                             \n",
    "                    └────▶Specific ──────▶mob.apply_matrix() | MCE-MGL            \n",
    "                                                   \n",
    "```"
   ]
  },
  {
   "attachments": {},
   "cell_type": "markdown",
   "metadata": {},
   "source": [
    "## a) Without stretch\n",
    "### <u><span style=\"color:red\">Caution</span>: `set` is only valid for ManimCE</u>"
   ]
  },
  {
   "cell_type": "code",
   "execution_count": null,
   "metadata": {},
   "outputs": [],
   "source": [
    "class Example(Scene):\n",
    "    def construct(self):\n",
    "        mob = Rectangle()\n",
    "        # mob.width = 8\n",
    "        # mob.height = 6\n",
    "        # mob.set(width=5)\n",
    "        # mob.set(height=6)\n",
    "        self.add(NumberPlane(), mob)\n",
    "\n",
    "%manim $_RI"
   ]
  },
  {
   "attachments": {},
   "cell_type": "markdown",
   "metadata": {},
   "source": [
    "The `mob.set(attr=val)` method (ManimCE only) is used to define any attribute.\n",
    "So instead of having to do this:\n",
    "\n",
    "```py\n",
    "mob.some_attr = some_val\n",
    "```\n",
    "\n",
    "can be replaced by this:\n",
    "\n",
    "```py\n",
    "mob.set(some_attr=some_val)\n",
    "```\n",
    "\n",
    "You can implement the set method in ManimGL, but you would have to modify the source code.\n",
    "\n",
    "Go to `manimlib/mobject/mobject.py` and add this method to `Mobject` class:\n",
    "\n",
    "```py\n",
    "def set(self, **kwargs):\n",
    "    for attr, value in kwargs.items():\n",
    "        setattr(self, attr, value)\n",
    "\n",
    "    return self\n",
    "```"
   ]
  },
  {
   "cell_type": "code",
   "execution_count": null,
   "metadata": {},
   "outputs": [],
   "source": [
    "class Example(Scene):\n",
    "    def construct(self):\n",
    "        mob = Square()\n",
    "        t = Text(\"2\")\n",
    "\n",
    "        # t.match_width(mob)\n",
    "        # t.match_height(mob)\n",
    "\n",
    "        self.add(NumberPlane(), mob, t)\n",
    "\n",
    "%manim $_RI"
   ]
  },
  {
   "cell_type": "code",
   "execution_count": null,
   "metadata": {},
   "outputs": [],
   "source": [
    "class Example(Scene):\n",
    "    def construct(self):\n",
    "        mob = Square()\n",
    "\n",
    "        # mob.scale(1) # this does not change the size\n",
    "        # mob.scale(2)\n",
    "        # mob.scale(3)\n",
    "        # mob.scale(0.5)\n",
    "\n",
    "        self.add(NumberPlane(), mob)\n",
    "\n",
    "%manim $_RI"
   ]
  },
  {
   "attachments": {},
   "cell_type": "markdown",
   "metadata": {},
   "source": [
    "## b) With stretch"
   ]
  },
  {
   "cell_type": "code",
   "execution_count": null,
   "metadata": {},
   "outputs": [],
   "source": [
    "class Example(Scene):\n",
    "    def construct(self):\n",
    "        mob = Square()\n",
    "        \n",
    "        # mob.stretch_to_fit_height(4)\n",
    "        # mob.stretch_to_fit_width(4)\n",
    "\n",
    "        self.add(NumberPlane(), mob)\n",
    "\n",
    "%manim $_RI"
   ]
  },
  {
   "cell_type": "code",
   "execution_count": null,
   "metadata": {},
   "outputs": [],
   "source": [
    "class Example(Scene):\n",
    "    def construct(self):\n",
    "        mob = Square()\n",
    "        t = Text(\"2\")\n",
    "\n",
    "        # t.match_width(mb, stretch=True)\n",
    "        # t.match_height(mob, stretch=True)\n",
    "\n",
    "        self.add(NumberPlane(), mob, t)\n",
    "\n",
    "%manim $_RI"
   ]
  },
  {
   "attachments": {},
   "cell_type": "markdown",
   "metadata": {},
   "source": [
    "#### `mob.scale([x,y,z])` only for ManimCE"
   ]
  },
  {
   "cell_type": "code",
   "execution_count": null,
   "metadata": {},
   "outputs": [],
   "source": [
    "class Example(Scene):\n",
    "    def construct(self):\n",
    "        mob = Square()\n",
    "        #         [width scale, height scale, depth scale]\n",
    "        mob.scale([1,1,1])\n",
    "\n",
    "        self.add(NumberPlane(), mob)\n",
    "\n",
    "%manim $_RI"
   ]
  },
  {
   "attachments": {},
   "cell_type": "markdown",
   "metadata": {},
   "source": [
    "## c) Rotations"
   ]
  },
  {
   "cell_type": "code",
   "execution_count": null,
   "metadata": {},
   "outputs": [],
   "source": [
    "class Example(Scene):\n",
    "    def construct(self):\n",
    "        mob = Square().scale(2)\n",
    "\n",
    "        # PI === np.pi\n",
    "        # mob.rotate(PI/4)\n",
    "        # mob.rotate(60 * DEGREES)\n",
    "\n",
    "        self.add(NumberPlane(), mob)\n",
    "\n",
    "%manim $_RI"
   ]
  },
  {
   "attachments": {},
   "cell_type": "markdown",
   "metadata": {},
   "source": [
    "### Be careful with the centers!"
   ]
  },
  {
   "cell_type": "code",
   "execution_count": null,
   "metadata": {},
   "outputs": [],
   "source": [
    "class Example(Scene):\n",
    "    def construct(self):\n",
    "        mob = Star().scale(3)\n",
    "\n",
    "        dot1 = Dot(mob.get_center()) # same as Dot1().move_to(mob1)\n",
    "        dot2 = Dot(mob.get_center_of_mass(), color=RED)\n",
    "\n",
    "        self.add(NumberPlane(), mob, dot1, dot2)\n",
    "\n",
    "%manim $_RI"
   ]
  },
  {
   "cell_type": "code",
   "execution_count": null,
   "metadata": {},
   "outputs": [],
   "source": [
    "class Example(Scene):\n",
    "    def construct(self):\n",
    "        mob1 = Star().scale(3)\n",
    "        mob2 = Star(color=RED).scale(3)\n",
    "\n",
    "        mob1.rotate(PI/4)\n",
    "        # same as:\n",
    "        # mob1.rotate(PI/4, about_point=mob1.get_center())\n",
    "        mob2.rotate(PI/4, about_point=mob2.get_center_of_mass())\n",
    "\n",
    "        self.add(NumberPlane(), mob1, mob2)\n",
    "\n",
    "%manim $_RI"
   ]
  },
  {
   "cell_type": "code",
   "execution_count": null,
   "metadata": {},
   "outputs": [],
   "source": [
    "class Example(Scene):\n",
    "    def construct(self):\n",
    "        mob = Text(\"A\").shift(DOWN*3)\n",
    "\n",
    "        mob.rotate(180*DEGREES, about_point=ORIGIN)    \n",
    "\n",
    "        self.add(NumberPlane(), mob)\n",
    "\n",
    "%manim $_RI"
   ]
  },
  {
   "attachments": {},
   "cell_type": "markdown",
   "metadata": {},
   "source": [
    "### Your homework: What does `mob.flip()`?"
   ]
  },
  {
   "attachments": {},
   "cell_type": "markdown",
   "metadata": {},
   "source": [
    "## d) Specific transformations using a linear transformation"
   ]
  },
  {
   "cell_type": "code",
   "execution_count": null,
   "metadata": {},
   "outputs": [],
   "source": [
    "class Example(Scene):\n",
    "    def construct(self):\n",
    "        mob1 = Square(color=TEAL).scale(3)\n",
    "        mob2 = Square(color=YELLOW).scale(3)\n",
    "\n",
    "        ref1 = Dot()\n",
    "        ref2 = Dot(mob1.get_corner(DL), color=RED)\n",
    "\n",
    "        P = np.tan(30 * DEGREES)\n",
    "\n",
    "        matrix = [\n",
    "            [1, P, 0],\n",
    "            [0, 1, 0],\n",
    "            [0, 0, 1],\n",
    "        ]\n",
    "\n",
    "        mob1.apply_matrix(matrix, about_point=ref1.get_center())\n",
    "        mob2.apply_matrix(matrix, about_point=ref2.get_center())\n",
    "\n",
    "        self.add(NumberPlane(), mob1, mob2, ref1, ref2)\n",
    "\n",
    "%manim $_RI"
   ]
  }
 ],
 "metadata": {
  "kernelspec": {
   "display_name": "venv",
   "language": "python",
   "name": "python3"
  },
  "language_info": {
   "codemirror_mode": {
    "name": "ipython",
    "version": 3
   },
   "file_extension": ".py",
   "mimetype": "text/x-python",
   "name": "python",
   "nbconvert_exporter": "python",
   "pygments_lexer": "ipython3",
   "version": "3.9.15 (main, Oct 11 2022, 21:39:54) \n[Clang 14.0.0 (clang-1400.0.29.102)]"
  },
  "orig_nbformat": 4,
  "vscode": {
   "interpreter": {
    "hash": "99f3cb52999e2cf3fa3b4aed91cffb0b1fd84ffd896832319d37cae931662453"
   }
  }
 },
 "nbformat": 4,
 "nbformat_minor": 2
}
